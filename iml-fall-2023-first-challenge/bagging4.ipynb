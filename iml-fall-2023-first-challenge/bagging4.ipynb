{
 "cells": [
  {
   "cell_type": "code",
   "execution_count": 3,
   "metadata": {},
   "outputs": [
    {
     "ename": "ModuleNotFoundError",
     "evalue": "No module named 'lightgbm'",
     "output_type": "error",
     "traceback": [
      "\u001b[0;31m---------------------------------------------------------------------------\u001b[0m",
      "\u001b[0;31mModuleNotFoundError\u001b[0m                       Traceback (most recent call last)",
      "\u001b[1;32m/Users/irtiza/Documents/IML assignment 1/iml-fall-2023-first-challenge/bagging4.ipynb Cell 1\u001b[0m line \u001b[0;36m8\n\u001b[1;32m      <a href='vscode-notebook-cell:/Users/irtiza/Documents/IML%20assignment%201/iml-fall-2023-first-challenge/bagging4.ipynb#W0sZmlsZQ%3D%3D?line=5'>6</a>\u001b[0m \u001b[39mfrom\u001b[39;00m \u001b[39msklearn\u001b[39;00m\u001b[39m.\u001b[39;00m\u001b[39mimpute\u001b[39;00m \u001b[39mimport\u001b[39;00m KNNImputer\n\u001b[1;32m      <a href='vscode-notebook-cell:/Users/irtiza/Documents/IML%20assignment%201/iml-fall-2023-first-challenge/bagging4.ipynb#W0sZmlsZQ%3D%3D?line=6'>7</a>\u001b[0m \u001b[39mfrom\u001b[39;00m \u001b[39mxgboost\u001b[39;00m \u001b[39mimport\u001b[39;00m XGBClassifier\n\u001b[0;32m----> <a href='vscode-notebook-cell:/Users/irtiza/Documents/IML%20assignment%201/iml-fall-2023-first-challenge/bagging4.ipynb#W0sZmlsZQ%3D%3D?line=7'>8</a>\u001b[0m \u001b[39mfrom\u001b[39;00m \u001b[39mlightgbm\u001b[39;00m \u001b[39mimport\u001b[39;00m LGBMClassifier  \u001b[39m# Import LightGBM\u001b[39;00m\n\u001b[1;32m      <a href='vscode-notebook-cell:/Users/irtiza/Documents/IML%20assignment%201/iml-fall-2023-first-challenge/bagging4.ipynb#W0sZmlsZQ%3D%3D?line=8'>9</a>\u001b[0m \u001b[39mfrom\u001b[39;00m \u001b[39msklearn\u001b[39;00m\u001b[39m.\u001b[39;00m\u001b[39mmodel_selection\u001b[39;00m \u001b[39mimport\u001b[39;00m train_test_split, cross_val_score, GridSearchCV\n\u001b[1;32m     <a href='vscode-notebook-cell:/Users/irtiza/Documents/IML%20assignment%201/iml-fall-2023-first-challenge/bagging4.ipynb#W0sZmlsZQ%3D%3D?line=9'>10</a>\u001b[0m \u001b[39mfrom\u001b[39;00m \u001b[39msklearn\u001b[39;00m\u001b[39m.\u001b[39;00m\u001b[39mmetrics\u001b[39;00m \u001b[39mimport\u001b[39;00m accuracy_score, roc_auc_score, classification_report\n",
      "\u001b[0;31mModuleNotFoundError\u001b[0m: No module named 'lightgbm'"
     ]
    }
   ],
   "source": [
    "import pandas as pd\n",
    "import numpy as np\n",
    "from sklearn.ensemble import BaggingClassifier, RandomForestClassifier, ExtraTreesClassifier, VotingClassifier\n",
    "from sklearn.feature_selection import SelectFromModel\n",
    "from sklearn.preprocessing import RobustScaler, LabelEncoder, OneHotEncoder\n",
    "from sklearn.impute import KNNImputer\n",
    "from xgboost import XGBClassifier\n",
    "from lightgbm import LGBMClassifier  # Import LightGBM\n",
    "from sklearn.model_selection import train_test_split, cross_val_score, GridSearchCV\n",
    "from sklearn.metrics import accuracy_score, roc_auc_score, classification_report\n",
    "import warnings\n",
    "\n",
    "warnings.filterwarnings('ignore')\n"
   ]
  },
  {
   "cell_type": "code",
   "execution_count": null,
   "metadata": {},
   "outputs": [],
   "source": [
    "# Load and preprocess the training data\n",
    "df = pd.read_csv('train.csv')\n",
    "\n",
    "# Apply one-hot encoding to categorical columns\n",
    "categorical_cols = df.select_dtypes(include=['object']).columns\n",
    "df = pd.get_dummies(df, columns=categorical_cols, drop_first=True)\n",
    "\n",
    "df_test = pd.read_csv('test.csv')\n",
    "\n",
    "# Apply the same one-hot encoding to test data\n",
    "df_test = pd.get_dummies(df_test, columns=categorical_cols, drop_first=True)\n",
    "\n",
    "# Drop columns as needed\n",
    "text_to_find = 'noninvasive'\n",
    "columns_to_drop = [col for col in df.columns if text_to_find in col]\n",
    "df.drop(columns=columns_to_drop, inplace=True)\n",
    "df_test.drop(columns=columns_to_drop, inplace=True)\n"
   ]
  },
  {
   "cell_type": "code",
   "execution_count": null,
   "metadata": {},
   "outputs": [],
   "source": [
    "imr = KNNImputer(n_neighbors=10000, weights='uniform')\n",
    "imr = imr.fit(df.values)\n",
    "df[:] = imr.transform(df.values)\n",
    "imr_test = KNNImputer(n_neighbors=10000, weights='uniform')\n",
    "imr_test = imr_test.fit(df_test.values)\n",
    "df_test[:] = imr_test.transform(df_test.values)"
   ]
  },
  {
   "cell_type": "code",
   "execution_count": null,
   "metadata": {},
   "outputs": [],
   "source": [
    "X = df.drop(columns='hospital_death')\n",
    "y = df['hospital_death']\n",
    "numeric_columns = X.select_dtypes(include=['int64', 'float64']).columns\n",
    "\n",
    "# Check if 'hospital_death' is in numeric_columns before dropping it\n",
    "if 'hospital_death' in numeric_columns:\n",
    "    numeric_columns = numeric_columns.drop(['RecordID', 'hospital_id', 'icu_id', 'hospital_death'])\n",
    "else:\n",
    "    # Handle the case where 'hospital_death' is not in numeric_columns\n",
    "    print(\"Warning: 'hospital_death' not found in numeric_columns\")\n"
   ]
  },
  {
   "cell_type": "code",
   "execution_count": null,
   "metadata": {},
   "outputs": [],
   "source": [
    "rbs = RobustScaler()\n",
    "X[numeric_columns] = rbs.fit_transform(X[numeric_columns])\n",
    "df_test[numeric_columns] = rbs.transform(df_test[numeric_columns])\n"
   ]
  },
  {
   "cell_type": "code",
   "execution_count": null,
   "metadata": {},
   "outputs": [],
   "source": [
    "# Feature selection using Random Forest to select the top features\n",
    "rf_selector = SelectFromModel(RandomForestClassifier(n_estimators=100, random_state=42), max_features=60)\n",
    "X_train_selected = rf_selector.fit_transform(X, y)"
   ]
  },
  {
   "cell_type": "code",
   "execution_count": null,
   "metadata": {},
   "outputs": [],
   "source": [
    "# Use the best hyperparameters for XGBoost\n",
    "best_xgb_params = {'learning_rate': 0.1, 'max_depth': 5, 'n_estimators': 100, 'subsample': 0.8}"
   ]
  },
  {
   "cell_type": "code",
   "execution_count": null,
   "metadata": {},
   "outputs": [],
   "source": [
    "# Use the best hyperparameters for XGBoost\n",
    "best_xgb_params = {'learning_rate': 0.1, 'max_depth': 5, 'n_estimators': 100, 'subsample': 0.8}\n",
    "best_xgb_model = XGBClassifier(random_state=42, **best_xgb_params)\n"
   ]
  },
  {
   "cell_type": "code",
   "execution_count": null,
   "metadata": {},
   "outputs": [],
   "source": [
    "\n",
    "# Create base estimators for BaggingClassifier\n",
    "base_estimator_xgb = best_xgb_model\n",
    "base_estimator_et = ExtraTreesClassifier(n_estimators=100, random_state=42)\n",
    "base_estimator_lgbm = LGBMClassifier(random_state=42)  # LightGBM\n"
   ]
  },
  {
   "cell_type": "code",
   "execution_count": null,
   "metadata": {},
   "outputs": [],
   "source": [
    "# Create a BaggingClassifier with multiple base estimators\n",
    "bagging_model = BaggingClassifier(base_estimator=[base_estimator_xgb, base_estimator_et, base_estimator_lgbm], n_estimators=10, random_state=42)\n",
    "\n",
    "# Fit the bagging model on the training data\n",
    "bagging_model.fit(X_train_selected, y)"
   ]
  },
  {
   "cell_type": "code",
   "execution_count": null,
   "metadata": {},
   "outputs": [],
   "source": [
    "\n",
    "# Perform cross-validation to assess bagging model performance\n",
    "bagging_cv_scores = cross_val_score(bagging_model, X_train_selected, y, cv=5, scoring='accuracy')\n",
    "\n"
   ]
  },
  {
   "cell_type": "code",
   "execution_count": null,
   "metadata": {},
   "outputs": [],
   "source": [
    "# Make predictions on the test data using the bagging model\n",
    "X_test_selected = rf_selector.transform(df_test)\n",
    "bagging_predictions = bagging_model.predict_proba(X_test_selected)[:, 1]"
   ]
  },
  {
   "cell_type": "code",
   "execution_count": null,
   "metadata": {},
   "outputs": [],
   "source": [
    "# Create a DataFrame with bagging model predictions and record IDs\n",
    "df_predictions = pd.DataFrame(bagging_predictions, columns=['hospital_death'])\n",
    "custom_starting_index = 50001\n",
    "df_predictions.insert(0, 'RecordID', range(custom_starting_index, custom_starting_index + len(df_predictions)))\n"
   ]
  },
  {
   "cell_type": "code",
   "execution_count": null,
   "metadata": {},
   "outputs": [],
   "source": [
    "# Specify the file path for saving the CSV file\n",
    "csv_file_path = 'prediction_bagging_multiple_estimators.csv'\n",
    "\n",
    "# Save the bagging model predictions to a CSV file\n",
    "df_predictions.to_csv(csv_file_path, index=False)\n",
    "\n",
    "# Print cross-validation scores and classification report\n",
    "print(\"Bagging Model Cross-Validation Scores:\", bagging_cv_scores)\n",
    "print(\"Mean CV Score for Bagging Model:\", np.mean(bagging_cv_scores))\n",
    "\n",
    "# Evaluate the bagging model on the training data\n",
    "y_pred_train = bagging_model.predict(X_train_selected)\n",
    "print(\"Accuracy on Training Data:\", accuracy_score(y, y_pred_train))\n",
    "print(\"ROC AUC on Training Data:\", roc_auc_score(y, y_pred_train))\n",
    "print(\"Classification Report on Training Data:\\n\", classification_report(y, y_pred_train))"
   ]
  }
 ],
 "metadata": {
  "kernelspec": {
   "display_name": "Python 3",
   "language": "python",
   "name": "python3"
  },
  "language_info": {
   "codemirror_mode": {
    "name": "ipython",
    "version": 3
   },
   "file_extension": ".py",
   "mimetype": "text/x-python",
   "name": "python",
   "nbconvert_exporter": "python",
   "pygments_lexer": "ipython3",
   "version": "3.9.6"
  },
  "orig_nbformat": 4
 },
 "nbformat": 4,
 "nbformat_minor": 2
}
