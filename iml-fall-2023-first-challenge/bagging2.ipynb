{
 "cells": [
  {
   "cell_type": "code",
   "execution_count": 5,
   "metadata": {},
   "outputs": [],
   "source": [
    "import pandas as pd\n",
    "import numpy as np\n",
    "from sklearn.ensemble import BaggingClassifier, RandomForestClassifier, VotingClassifier\n",
    "from sklearn.feature_selection import SelectFromModel\n",
    "from sklearn.preprocessing import RobustScaler, LabelEncoder, OneHotEncoder\n",
    "from sklearn.impute import KNNImputer\n",
    "from xgboost import XGBClassifier\n",
    "from sklearn.model_selection import train_test_split, cross_val_score, GridSearchCV\n",
    "from sklearn.metrics import accuracy_score, roc_auc_score, classification_report\n",
    "import warnings\n",
    "\n",
    "warnings.filterwarnings('ignore')"
   ]
  },
  {
   "cell_type": "code",
   "execution_count": 6,
   "metadata": {},
   "outputs": [],
   "source": [
    "# Load and preprocess the training data\n",
    "df = pd.read_csv('train.csv')\n",
    "\n",
    "# Apply one-hot encoding to categorical columns\n",
    "categorical_cols = df.select_dtypes(include=['object']).columns\n",
    "df = pd.get_dummies(df, columns=categorical_cols, drop_first=True)\n",
    "\n",
    "df_test = pd.read_csv('test.csv')\n",
    "\n",
    "# Apply the same one-hot encoding to test data\n",
    "df_test = pd.get_dummies(df_test, columns=categorical_cols, drop_first=True)\n",
    "\n",
    "# Drop columns as needed\n",
    "text_to_find = 'noninvasive'\n",
    "columns_to_drop = [col for col in df.columns if text_to_find in col]\n",
    "df.drop(columns=columns_to_drop, inplace=True)\n",
    "df_test.drop(columns=columns_to_drop, inplace=True)\n"
   ]
  },
  {
   "cell_type": "code",
   "execution_count": 7,
   "metadata": {},
   "outputs": [],
   "source": [
    "imr = KNNImputer(n_neighbors=10000, weights='uniform')\n",
    "imr = imr.fit(df.values)\n",
    "df[:] = imr.transform(df.values)"
   ]
  },
  {
   "cell_type": "code",
   "execution_count": 8,
   "metadata": {},
   "outputs": [],
   "source": [
    "imr_test = KNNImputer(n_neighbors=10000, weights='uniform')\n",
    "imr_test = imr_test.fit(df_test.values)\n",
    "df_test[:] = imr_test.transform(df_test.values)"
   ]
  },
  {
   "cell_type": "code",
   "execution_count": 9,
   "metadata": {},
   "outputs": [],
   "source": [
    "\n",
    "X = df.drop(columns='hospital_death')\n",
    "y = df['hospital_death']\n",
    "numeric_columns = X.select_dtypes(include=['int64', 'float64']).columns\n"
   ]
  },
  {
   "cell_type": "code",
   "execution_count": 10,
   "metadata": {},
   "outputs": [
    {
     "name": "stdout",
     "output_type": "stream",
     "text": [
      "Warning: 'hospital_death' not found in numeric_columns\n"
     ]
    }
   ],
   "source": [
    "# Check if 'hospital_death' is in numeric_columns before dropping it\n",
    "if 'hospital_death' in numeric_columns:\n",
    "    numeric_columns = numeric_columns.drop(['RecordID', 'hospital_id', 'icu_id', 'hospital_death'])\n",
    "else:\n",
    "    # Handle the case where 'hospital_death' is not in numeric_columns\n",
    "    print(\"Warning: 'hospital_death' not found in numeric_columns\")\n"
   ]
  },
  {
   "cell_type": "code",
   "execution_count": 11,
   "metadata": {},
   "outputs": [],
   "source": [
    "rbs = RobustScaler()\n",
    "X[numeric_columns] = rbs.fit_transform(X[numeric_columns])\n",
    "df_test[numeric_columns] = rbs.transform(df_test[numeric_columns])\n"
   ]
  },
  {
   "cell_type": "code",
   "execution_count": 12,
   "metadata": {},
   "outputs": [],
   "source": [
    "# Feature selection using Random Forest to select the top features\n",
    "# rf_selector = SelectFromModel(RandomForestClassifier(n_estimators=100, random_state=42), max_features=60)\n",
    "# X_train_selected = rf_selector.fit_transform(X, y)\n"
   ]
  },
  {
   "cell_type": "code",
   "execution_count": 13,
   "metadata": {},
   "outputs": [],
   "source": [
    "# Use the best hyperparameters for XGBoost\n",
    "best_xgb_params = {'learning_rate': 0.1, 'max_depth': 5, 'n_estimators': 100, 'subsample': 0.8}\n",
    "best_xgb_model = XGBClassifier(random_state=42, **best_xgb_params)\n"
   ]
  },
  {
   "cell_type": "code",
   "execution_count": 14,
   "metadata": {},
   "outputs": [
    {
     "ename": "NameError",
     "evalue": "name 'X_train_selected' is not defined",
     "output_type": "error",
     "traceback": [
      "\u001b[0;31m---------------------------------------------------------------------------\u001b[0m",
      "\u001b[0;31mNameError\u001b[0m                                 Traceback (most recent call last)",
      "\u001b[1;32m/Users/irtiza/Documents/IML assignment 1/iml-fall-2023-first-challenge/bagging2.ipynb Cell 10\u001b[0m line \u001b[0;36m4\n\u001b[1;32m      <a href='vscode-notebook-cell:/Users/irtiza/Documents/IML%20assignment%201/iml-fall-2023-first-challenge/bagging2.ipynb#X12sZmlsZQ%3D%3D?line=1'>2</a>\u001b[0m bagging_xgb_model \u001b[39m=\u001b[39m BaggingClassifier(base_estimator\u001b[39m=\u001b[39mbest_xgb_model, n_estimators\u001b[39m=\u001b[39m\u001b[39m10\u001b[39m, random_state\u001b[39m=\u001b[39m\u001b[39m42\u001b[39m)\n\u001b[1;32m      <a href='vscode-notebook-cell:/Users/irtiza/Documents/IML%20assignment%201/iml-fall-2023-first-challenge/bagging2.ipynb#X12sZmlsZQ%3D%3D?line=2'>3</a>\u001b[0m \u001b[39m# Fit the bagging model on the training data\u001b[39;00m\n\u001b[0;32m----> <a href='vscode-notebook-cell:/Users/irtiza/Documents/IML%20assignment%201/iml-fall-2023-first-challenge/bagging2.ipynb#X12sZmlsZQ%3D%3D?line=3'>4</a>\u001b[0m bagging_xgb_model\u001b[39m.\u001b[39mfit(X_train_selected, y)\n",
      "\u001b[0;31mNameError\u001b[0m: name 'X_train_selected' is not defined"
     ]
    }
   ],
   "source": [
    "\n",
    "# Create a BaggingClassifier with XGBoost as the base estimator\n",
    "bagging_xgb_model = BaggingClassifier(base_estimator=best_xgb_model, n_estimators=10, random_state=42)\n",
    "# Fit the bagging model on the training data\n",
    "bagging_xgb_model.fit(X_train_selected, y)"
   ]
  },
  {
   "cell_type": "code",
   "execution_count": null,
   "metadata": {},
   "outputs": [],
   "source": [
    "# Perform cross-validation to assess bagging model performance\n",
    "bagging_cv_scores = cross_val_score(bagging_xgb_model, X_train_selected, y, cv=5, scoring='accuracy')\n",
    "\n",
    "# Make predictions on the test data using the bagging model\n",
    "X_test_selected = rf_selector.transform(df_test)\n",
    "bagging_predictions = bagging_xgb_model.predict_proba(X_test_selected)[:, 1]\n"
   ]
  },
  {
   "cell_type": "code",
   "execution_count": null,
   "metadata": {},
   "outputs": [],
   "source": [
    "# Create a DataFrame with bagging model predictions and record IDs\n",
    "df_predictions = pd.DataFrame(bagging_predictions, columns=['hospital_death'])\n",
    "custom_starting_index = 50001\n",
    "df_predictions.insert(0, 'RecordID', range(custom_starting_index, custom_starting_index + len(df_predictions)))\n"
   ]
  },
  {
   "cell_type": "code",
   "execution_count": null,
   "metadata": {},
   "outputs": [
    {
     "name": "stdout",
     "output_type": "stream",
     "text": [
      "Bagging Model Cross-Validation Scores: [0.9266 0.9267 0.9265 0.9233 0.9265]\n",
      "Mean CV Score for Bagging Model: 0.92592\n",
      "Accuracy on Training Data: 0.93562\n",
      "ROC AUC on Training Data: 0.6665282541214952\n",
      "Classification Report on Training Data:\n",
      "               precision    recall  f1-score   support\n",
      "\n",
      "           0       0.94      0.99      0.97     45662\n",
      "           1       0.80      0.34      0.48      4338\n",
      "\n",
      "    accuracy                           0.94     50000\n",
      "   macro avg       0.87      0.67      0.72     50000\n",
      "weighted avg       0.93      0.94      0.92     50000\n",
      "\n"
     ]
    }
   ],
   "source": [
    "# Specify the file path for saving the CSV file\n",
    "csv_file_path = 'prediction_bagging_xgb.csv'\n",
    "\n",
    "# Save the bagging model predictions to a CSV file\n",
    "df_predictions.to_csv(csv_file_path, index=False)\n",
    "\n",
    "# Print cross-validation scores and classification report\n",
    "print(\"Bagging Model Cross-Validation Scores:\", bagging_cv_scores)\n",
    "print(\"Mean CV Score for Bagging Model:\", np.mean(bagging_cv_scores))\n",
    "\n",
    "# Evaluate the bagging model on the training data\n",
    "y_pred_train = bagging_xgb_model.predict(X_train_selected)\n",
    "print(\"Accuracy on Training Data:\", accuracy_score(y, y_pred_train))\n",
    "print(\"ROC AUC on Training Data:\", roc_auc_score(y, y_pred_train))\n",
    "print(\"Classification Report on Training Data:\\n\", classification_report(y, y_pred_train))"
   ]
  }
 ],
 "metadata": {
  "kernelspec": {
   "display_name": "Python 3",
   "language": "python",
   "name": "python3"
  },
  "language_info": {
   "codemirror_mode": {
    "name": "ipython",
    "version": 3
   },
   "file_extension": ".py",
   "mimetype": "text/x-python",
   "name": "python",
   "nbconvert_exporter": "python",
   "pygments_lexer": "ipython3",
   "version": "3.9.6"
  },
  "orig_nbformat": 4
 },
 "nbformat": 4,
 "nbformat_minor": 2
}
