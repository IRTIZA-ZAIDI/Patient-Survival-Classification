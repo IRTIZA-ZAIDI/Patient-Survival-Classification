{
 "cells": [
  {
   "cell_type": "code",
   "execution_count": 37,
   "metadata": {},
   "outputs": [],
   "source": [
    "import pandas as pd\n",
    "from sklearn.preprocessing import RobustScaler\n",
    "from sklearn.impute import KNNImputer\n",
    "from sklearn.neighbors import KNeighborsClassifier\n",
    "from sklearn.pipeline import Pipeline\n"
   ]
  },
  {
   "cell_type": "code",
   "execution_count": 38,
   "metadata": {},
   "outputs": [],
   "source": [
    "df_train = pd.read_csv(\"train.csv\")\n",
    "df_test = pd.read_csv(\"test.csv\")\n"
   ]
  },
  {
   "cell_type": "code",
   "execution_count": 39,
   "metadata": {},
   "outputs": [],
   "source": [
    "# Identify categorical columns in your dataset\n",
    "categorical_columns_train = df_train.select_dtypes(include=['object']).columns\n",
    "categorical_columns_test = df_test.select_dtypes(include=['object']).columns\n",
    "\n",
    "# Apply one-hot encoding to categorical columns in both datasets\n",
    "df_train_encoded = pd.get_dummies(df_train, columns=categorical_columns_train)\n",
    "df_test_encoded = pd.get_dummies(df_test, columns=categorical_columns_test)"
   ]
  },
  {
   "cell_type": "code",
   "execution_count": 40,
   "metadata": {},
   "outputs": [],
   "source": [
    "# Separate the target variable (assuming it's in a column called 'hospital_death')\n",
    "X_train = df_train_encoded.drop(columns=['hospital_death'])\n",
    "y_train = df_train_encoded['hospital_death']\n",
    "X_test = df_test_encoded\n"
   ]
  },
  {
   "cell_type": "code",
   "execution_count": 41,
   "metadata": {},
   "outputs": [],
   "source": [
    "# Create a preprocessing pipeline\n",
    "preprocessing_pipeline = Pipeline([\n",
    "    ('scaler', RobustScaler()),  # Use RobustScaler for robust scaling\n",
    "    ('imputer', KNNImputer(n_neighbors=12000)),  # You can adjust 'n_neighbors' as needed\n",
    "])"
   ]
  },
  {
   "cell_type": "code",
   "execution_count": 42,
   "metadata": {},
   "outputs": [],
   "source": [
    "# Apply preprocessing to both train and test data\n",
    "X_train_preprocessed = preprocessing_pipeline.fit_transform(X_train)\n",
    "X_test_preprocessed = preprocessing_pipeline.transform(X_test)"
   ]
  },
  {
   "cell_type": "code",
   "execution_count": 43,
   "metadata": {},
   "outputs": [
    {
     "data": {
      "text/plain": [
       "array([[ 1.73208545,  1.11215214,  0.4917898 , ..., -0.21463661,\n",
       "        -0.06224916, -0.17921931],\n",
       "       [ 1.73215473, -0.56545771, -0.26106263, ..., -0.21463661,\n",
       "        -0.06224916, -0.17921931],\n",
       "       [ 1.73222401,  1.42868231,  1.31508457, ..., -0.21463661,\n",
       "        -0.06224916, -0.17921931],\n",
       "       ...,\n",
       "       [ 3.81033857,  0.85892802, -0.17741236, ..., -0.21463661,\n",
       "        -0.06224916, -0.17921931],\n",
       "       [ 3.81040785,  0.19421468, -1.83720983, ..., -0.21463661,\n",
       "        -0.06224916, -0.17921931],\n",
       "       [ 3.81047714, -0.56545771, -0.20382824, ..., -0.21463661,\n",
       "        -0.06224916, -0.17921931]])"
      ]
     },
     "execution_count": 43,
     "metadata": {},
     "output_type": "execute_result"
    }
   ],
   "source": [
    "# Feature scaling using StandardScaler\n",
    "scaler = StandardScaler()\n",
    "X_train_scaled = scaler.fit_transform(X_train)\n",
    "X_test_scaled = scaler.transform(X_test)\n",
    "X_test_scaled"
   ]
  },
  {
   "cell_type": "code",
   "execution_count": 44,
   "metadata": {},
   "outputs": [],
   "source": [
    "\n",
    "# Apply preprocessing to both train and test data\n",
    "X_train_preprocessed = preprocessing_pipeline.fit_transform(X_train)\n",
    "X_test_preprocessed = preprocessing_pipeline.transform(X_test)\n"
   ]
  },
  {
   "cell_type": "code",
   "execution_count": 45,
   "metadata": {},
   "outputs": [],
   "source": [
    "# Train a KNN classifier\n",
    "knn_classifier = KNeighborsClassifier(n_neighbors=1500)  # You can adjust 'n_neighbors' as needed\n",
    "knn_classifier.fit(X_train_preprocessed, y_train)\n",
    "\n",
    "# Predict probabilities on the test set for class 1\n",
    "y_pred_proba_class_1 = knn_classifier.predict_proba(X_test_preprocessed)[:, 1]\n",
    "\n"
   ]
  },
  {
   "cell_type": "code",
   "execution_count": 46,
   "metadata": {},
   "outputs": [],
   "source": [
    "# Create a DataFrame with record ID and predicted probabilities for class 1\n",
    "output_df = pd.DataFrame({'RecordID': df_test['RecordID'], 'probability_class_1': y_pred_proba_class_1})\n",
    "\n",
    "# Save the DataFrame to a CSV file\n",
    "output_df.to_csv(\"predicted_probabilities_class_1.csv\", index=False)"
   ]
  }
 ],
 "metadata": {
  "kernelspec": {
   "display_name": "Python 3",
   "language": "python",
   "name": "python3"
  },
  "language_info": {
   "codemirror_mode": {
    "name": "ipython",
    "version": 3
   },
   "file_extension": ".py",
   "mimetype": "text/x-python",
   "name": "python",
   "nbconvert_exporter": "python",
   "pygments_lexer": "ipython3",
   "version": "3.9.6"
  },
  "orig_nbformat": 4
 },
 "nbformat": 4,
 "nbformat_minor": 2
}
