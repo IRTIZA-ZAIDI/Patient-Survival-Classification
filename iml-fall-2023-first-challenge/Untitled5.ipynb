{
  "cells": [
    {
      "cell_type": "code",
      "execution_count": 20,
      "metadata": {
        "id": "suZ1lwQI2K-N"
      },
      "outputs": [],
      "source": [
        "import pandas as pd\n",
        "import numpy as np\n",
        "from sklearn.impute import SimpleImputer, KNNImputer\n",
        "from sklearn.preprocessing import RobustScaler, OneHotEncoder\n",
        "from sklearn.ensemble import AdaBoostClassifier, RandomForestClassifier\n",
        "from sklearn.feature_selection import SelectFromModel\n",
        "from xgboost import XGBClassifier\n",
        "from sklearn.pipeline import Pipeline\n",
        "from sklearn.compose import ColumnTransformer\n",
        "from sklearn.model_selection import train_test_split\n",
        "from sklearn.metrics import accuracy_score"
      ]
    },
    {
      "cell_type": "code",
      "execution_count": 21,
      "metadata": {
        "id": "JZ6s_33m3w6v"
      },
      "outputs": [],
      "source": [
        "# Load your train and test data\n",
        "train_data = pd.read_csv(\"train.csv\")\n",
        "test_data = pd.read_csv(\"test.csv\")"
      ]
    },
    {
      "cell_type": "code",
      "execution_count": 22,
      "metadata": {
        "id": "upeGUf0h3-Qk"
      },
      "outputs": [],
      "source": [
        "train_data.drop(columns=[\"RecordID\", \"hospital_id\"], axis=1, inplace=True)\n",
        "test_data.drop(columns=[\"RecordID\", \"hospital_id\"], axis=1, inplace=True)"
      ]
    },
    {
      "cell_type": "code",
      "execution_count": 23,
      "metadata": {
        "id": "BXIkOX4i4BUK"
      },
      "outputs": [],
      "source": [
        "# Separate the target variable from the features\n",
        "X_train = train_data.drop(\"hospital_death\", axis=1)\n",
        "y_train = train_data[\"hospital_death\"]\n",
        "X_test = test_data"
      ]
    },
    {
      "cell_type": "code",
      "execution_count": 24,
      "metadata": {
        "id": "9-fYTwFp4bOr"
      },
      "outputs": [],
      "source": [
        "# Define the column types (numeric and string columns)\n",
        "numeric_columns = X_train.select_dtypes(include=['int', 'float']).columns\n",
        "string_columns = X_train.select_dtypes(include=['object']).columns"
      ]
    },
    {
      "cell_type": "code",
      "execution_count": 25,
      "metadata": {
        "id": "Ee8Hoc7c4cIl"
      },
      "outputs": [],
      "source": [
        "# Data cleaning and preprocessing for numeric data\n",
        "numeric_imputer = KNNImputer(n_neighbors=10001)\n",
        "X_train[numeric_columns] = numeric_imputer.fit_transform(X_train[numeric_columns])\n",
        "X_test[numeric_columns] = numeric_imputer.transform(X_test[numeric_columns])"
      ]
    },
    {
      "cell_type": "code",
      "execution_count": 26,
      "metadata": {
        "id": "jTWXpa4V4eAL"
      },
      "outputs": [],
      "source": [
        "scaler = RobustScaler()\n",
        "X_train[numeric_columns] = scaler.fit_transform(X_train[numeric_columns])\n",
        "X_test[numeric_columns] = scaler.transform(X_test[numeric_columns])"
      ]
    },
    {
      "cell_type": "code",
      "execution_count": 27,
      "metadata": {
        "id": "bcqBLu2T4hKl"
      },
      "outputs": [],
      "source": [
        "# Data cleaning and preprocessing for string data\n",
        "string_imputer = SimpleImputer(strategy='most_frequent')\n",
        "X_train[string_columns] = string_imputer.fit_transform(X_train[string_columns])\n",
        "X_test[string_columns] = string_imputer.transform(X_test[string_columns])"
      ]
    },
    {
      "cell_type": "code",
      "execution_count": 28,
      "metadata": {
        "id": "N5Scj_yeCxf6"
      },
      "outputs": [],
      "source": [
        "encoder = OneHotEncoder()\n",
        "X_train_encoded = encoder.fit_transform(X_train[string_columns])\n",
        "X_test_encoded = encoder.transform(X_test[string_columns])"
      ]
    },
    {
      "cell_type": "code",
      "execution_count": 29,
      "metadata": {
        "id": "Fywmo8m3C08N"
      },
      "outputs": [],
      "source": [
        "# Combine the numeric and one-hot encoded string data\n",
        "X_train_processed = np.hstack((X_train[numeric_columns], X_train_encoded.toarray()))\n",
        "X_test_processed = np.hstack((X_test[numeric_columns], X_test_encoded.toarray()))"
      ]
    },
    {
      "cell_type": "code",
      "execution_count": 30,
      "metadata": {
        "id": "Sbl3Qgze4jCi"
      },
      "outputs": [],
      "source": [
        "# Feature selection using Random Forest to select the top 25 features\n",
        "rf_selector = SelectFromModel(RandomForestClassifier(n_estimators=100, random_state=42), max_features=60)\n",
        "X_train_selected = rf_selector.fit_transform(X_train_processed, y_train)\n",
        "X_test_selected = rf_selector.transform(X_test_processed)"
      ]
    },
    {
      "cell_type": "code",
      "execution_count": 31,
      "metadata": {
        "colab": {
          "base_uri": "https://localhost:8080/",
          "height": 172
        },
        "id": "WDUHzsif4uOS",
        "outputId": "07673ed2-ffa7-4cfc-8072-b32cc4908e70"
      },
      "outputs": [
        {
          "name": "stderr",
          "output_type": "stream",
          "text": [
            "/Users/irtiza/Library/Python/3.9/lib/python/site-packages/sklearn/ensemble/_base.py:156: FutureWarning: `base_estimator` was renamed to `estimator` in version 1.2 and will be removed in 1.4.\n",
            "  warnings.warn(\n"
          ]
        },
        {
          "data": {
            "text/html": [
              "<style>#sk-container-id-2 {color: black;}#sk-container-id-2 pre{padding: 0;}#sk-container-id-2 div.sk-toggleable {background-color: white;}#sk-container-id-2 label.sk-toggleable__label {cursor: pointer;display: block;width: 100%;margin-bottom: 0;padding: 0.3em;box-sizing: border-box;text-align: center;}#sk-container-id-2 label.sk-toggleable__label-arrow:before {content: \"▸\";float: left;margin-right: 0.25em;color: #696969;}#sk-container-id-2 label.sk-toggleable__label-arrow:hover:before {color: black;}#sk-container-id-2 div.sk-estimator:hover label.sk-toggleable__label-arrow:before {color: black;}#sk-container-id-2 div.sk-toggleable__content {max-height: 0;max-width: 0;overflow: hidden;text-align: left;background-color: #f0f8ff;}#sk-container-id-2 div.sk-toggleable__content pre {margin: 0.2em;color: black;border-radius: 0.25em;background-color: #f0f8ff;}#sk-container-id-2 input.sk-toggleable__control:checked~div.sk-toggleable__content {max-height: 200px;max-width: 100%;overflow: auto;}#sk-container-id-2 input.sk-toggleable__control:checked~label.sk-toggleable__label-arrow:before {content: \"▾\";}#sk-container-id-2 div.sk-estimator input.sk-toggleable__control:checked~label.sk-toggleable__label {background-color: #d4ebff;}#sk-container-id-2 div.sk-label input.sk-toggleable__control:checked~label.sk-toggleable__label {background-color: #d4ebff;}#sk-container-id-2 input.sk-hidden--visually {border: 0;clip: rect(1px 1px 1px 1px);clip: rect(1px, 1px, 1px, 1px);height: 1px;margin: -1px;overflow: hidden;padding: 0;position: absolute;width: 1px;}#sk-container-id-2 div.sk-estimator {font-family: monospace;background-color: #f0f8ff;border: 1px dotted black;border-radius: 0.25em;box-sizing: border-box;margin-bottom: 0.5em;}#sk-container-id-2 div.sk-estimator:hover {background-color: #d4ebff;}#sk-container-id-2 div.sk-parallel-item::after {content: \"\";width: 100%;border-bottom: 1px solid gray;flex-grow: 1;}#sk-container-id-2 div.sk-label:hover label.sk-toggleable__label {background-color: #d4ebff;}#sk-container-id-2 div.sk-serial::before {content: \"\";position: absolute;border-left: 1px solid gray;box-sizing: border-box;top: 0;bottom: 0;left: 50%;z-index: 0;}#sk-container-id-2 div.sk-serial {display: flex;flex-direction: column;align-items: center;background-color: white;padding-right: 0.2em;padding-left: 0.2em;position: relative;}#sk-container-id-2 div.sk-item {position: relative;z-index: 1;}#sk-container-id-2 div.sk-parallel {display: flex;align-items: stretch;justify-content: center;background-color: white;position: relative;}#sk-container-id-2 div.sk-item::before, #sk-container-id-2 div.sk-parallel-item::before {content: \"\";position: absolute;border-left: 1px solid gray;box-sizing: border-box;top: 0;bottom: 0;left: 50%;z-index: -1;}#sk-container-id-2 div.sk-parallel-item {display: flex;flex-direction: column;z-index: 1;position: relative;background-color: white;}#sk-container-id-2 div.sk-parallel-item:first-child::after {align-self: flex-end;width: 50%;}#sk-container-id-2 div.sk-parallel-item:last-child::after {align-self: flex-start;width: 50%;}#sk-container-id-2 div.sk-parallel-item:only-child::after {width: 0;}#sk-container-id-2 div.sk-dashed-wrapped {border: 1px dashed gray;margin: 0 0.4em 0.5em 0.4em;box-sizing: border-box;padding-bottom: 0.4em;background-color: white;}#sk-container-id-2 div.sk-label label {font-family: monospace;font-weight: bold;display: inline-block;line-height: 1.2em;}#sk-container-id-2 div.sk-label-container {text-align: center;}#sk-container-id-2 div.sk-container {/* jupyter's `normalize.less` sets `[hidden] { display: none; }` but bootstrap.min.css set `[hidden] { display: none !important; }` so we also need the `!important` here to be able to override the default hidden behavior on the sphinx rendered scikit-learn.org. See: https://github.com/scikit-learn/scikit-learn/issues/21755 */display: inline-block !important;position: relative;}#sk-container-id-2 div.sk-text-repr-fallback {display: none;}</style><div id=\"sk-container-id-2\" class=\"sk-top-container\"><div class=\"sk-text-repr-fallback\"><pre>AdaBoostClassifier(base_estimator=RandomForestClassifier(n_estimators=1249,\n",
              "                                                         random_state=69),\n",
              "                   learning_rate=0.1, n_estimators=1000, random_state=42)</pre><b>In a Jupyter environment, please rerun this cell to show the HTML representation or trust the notebook. <br />On GitHub, the HTML representation is unable to render, please try loading this page with nbviewer.org.</b></div><div class=\"sk-container\" hidden><div class=\"sk-item sk-dashed-wrapped\"><div class=\"sk-label-container\"><div class=\"sk-label sk-toggleable\"><input class=\"sk-toggleable__control sk-hidden--visually\" id=\"sk-estimator-id-4\" type=\"checkbox\" ><label for=\"sk-estimator-id-4\" class=\"sk-toggleable__label sk-toggleable__label-arrow\">AdaBoostClassifier</label><div class=\"sk-toggleable__content\"><pre>AdaBoostClassifier(base_estimator=RandomForestClassifier(n_estimators=1249,\n",
              "                                                         random_state=69),\n",
              "                   learning_rate=0.1, n_estimators=1000, random_state=42)</pre></div></div></div><div class=\"sk-parallel\"><div class=\"sk-parallel-item\"><div class=\"sk-item\"><div class=\"sk-label-container\"><div class=\"sk-label sk-toggleable\"><input class=\"sk-toggleable__control sk-hidden--visually\" id=\"sk-estimator-id-5\" type=\"checkbox\" ><label for=\"sk-estimator-id-5\" class=\"sk-toggleable__label sk-toggleable__label-arrow\">base_estimator: RandomForestClassifier</label><div class=\"sk-toggleable__content\"><pre>RandomForestClassifier(n_estimators=1249, random_state=69)</pre></div></div></div><div class=\"sk-serial\"><div class=\"sk-item\"><div class=\"sk-estimator sk-toggleable\"><input class=\"sk-toggleable__control sk-hidden--visually\" id=\"sk-estimator-id-6\" type=\"checkbox\" ><label for=\"sk-estimator-id-6\" class=\"sk-toggleable__label sk-toggleable__label-arrow\">RandomForestClassifier</label><div class=\"sk-toggleable__content\"><pre>RandomForestClassifier(n_estimators=1249, random_state=69)</pre></div></div></div></div></div></div></div></div></div></div>"
            ],
            "text/plain": [
              "AdaBoostClassifier(base_estimator=RandomForestClassifier(n_estimators=1249,\n",
              "                                                         random_state=69),\n",
              "                   learning_rate=0.1, n_estimators=1000, random_state=42)"
            ]
          },
          "execution_count": 31,
          "metadata": {},
          "output_type": "execute_result"
        }
      ],
      "source": [
        "# Model training using AdaBoost with RandomForest as the base estimator\n",
        "base_estimator = RandomForestClassifier(n_estimators=1000, random_state=42)\n",
        "adaboost_model = AdaBoostClassifier(base_estimator=base_estimator, n_estimators=1000, random_state=42, learning_rate=0.1)\n",
        "adaboost_model.fit(X_train_selected, y_train)"
      ]
    },
    {
      "cell_type": "code",
      "execution_count": 32,
      "metadata": {
        "id": "dWgZKhpn4wOk"
      },
      "outputs": [],
      "source": [
        "# Make predictions on the test data\n",
        "np.set_printoptions(precision=10)\n",
        "predictions = adaboost_model.predict_proba(X_test_selected)"
      ]
    },
    {
      "cell_type": "code",
      "execution_count": 33,
      "metadata": {
        "colab": {
          "base_uri": "https://localhost:8080/"
        },
        "id": "q_Zj2XRn472T",
        "outputId": "10dc5d0c-ccd9-4223-8eb6-f4f075a7fc0d"
      },
      "outputs": [
        {
          "data": {
            "text/plain": [
              "array([0.0072057646, 0.6116893515, 0.064051241 , ..., 0.0128102482,\n",
              "       0.0104083267, 0.0048038431])"
            ]
          },
          "execution_count": 33,
          "metadata": {},
          "output_type": "execute_result"
        }
      ],
      "source": [
        "predictions = predictions[:,1]\n",
        "predictions"
      ]
    },
    {
      "cell_type": "code",
      "execution_count": 34,
      "metadata": {
        "id": "0Pw35M4F5AFv"
      },
      "outputs": [],
      "source": [
        "df = pd.DataFrame(predictions)\n",
        "custom_starting_index = 50001\n",
        "df.insert(0, 'RecordID', range(custom_starting_index, custom_starting_index + len(df)))\n",
        "\n",
        "custom_column_names = ['RecordID', 'hospital_death']\n",
        "\n",
        "csv_file_path = '../iml-fall-2023-first-challenge/prediction.csv'\n",
        "\n",
        "df.to_csv(csv_file_path, index=False, header=custom_column_names)"
      ]
    }
  ],
  "metadata": {
    "accelerator": "TPU",
    "colab": {
      "provenance": []
    },
    "kernelspec": {
      "display_name": "Python 3",
      "name": "python3"
    },
    "language_info": {
      "codemirror_mode": {
        "name": "ipython",
        "version": 3
      },
      "file_extension": ".py",
      "mimetype": "text/x-python",
      "name": "python",
      "nbconvert_exporter": "python",
      "pygments_lexer": "ipython3",
      "version": "3.9.6"
    }
  },
  "nbformat": 4,
  "nbformat_minor": 0
}
